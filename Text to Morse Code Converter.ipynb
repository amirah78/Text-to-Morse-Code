{
 "cells": [
  {
   "cell_type": "markdown",
   "id": "67b75575",
   "metadata": {},
   "source": [
    "Morse Code Translator (Text to Morse Code)"
   ]
  },
  {
   "cell_type": "code",
   "execution_count": 4,
   "id": "bfb28c02",
   "metadata": {},
   "outputs": [],
   "source": [
    "# Create Morse Code Dictionary\n",
    "morse_code_dict = {\n",
    "    \"A\": \"·− \", \n",
    "    \"B\": \"−··· \",\n",
    "    \"C\": \"−·−· \",\n",
    "    \"D\": \"−·· \",\n",
    "    \"E\": \"· \",\n",
    "    \"F\": \"··−· \",\n",
    "    \"G\": \"−−· \",\n",
    "    \"H\": \"···· \",\n",
    "    \"I\": \"·· \",\n",
    "    \"J\": \"·−−− \",\n",
    "    \"K\": \"−·− \",\n",
    "    \"L\": \"·−·· \",\n",
    "    \"M\": \"−− \",\n",
    "    \"N\": \"−· \",\n",
    "    \"O\": \"−−− \",\n",
    "    \"P\": \"·−−· \",\n",
    "    \"Q\": \"−−·− \",\n",
    "    \"R\": \"−−·− \",\n",
    "    \"S\": \"··· \",\n",
    "    \"T\": \"− \",\n",
    "    \"U\": \"··− \",\n",
    "    \"V\": \"···− \",\n",
    "    \"W\": \"·−− \",\n",
    "    \"X\": \"−··− \",\n",
    "    \"Y\": \"−·−− \",\n",
    "    \"Z\": \"−−·· \",\n",
    "    \"0\": \"−−−−− \",\n",
    "    \"1\": \"·−−−− \",\n",
    "    \"2\": \"··−−− \",\n",
    "    \"3\": \"···−− \",\n",
    "    \"4\": \"····− \",\n",
    "    \"5\": \"····· \",\n",
    "    \"6\": \"−···· \",\n",
    "    \"7\": \"−−··· \",\n",
    "    \"8\": \"−−−·· \",\n",
    "    \"9\": \"−−−−· \",\n",
    "    \" \": \"/\",\n",
    "}"
   ]
  },
  {
   "cell_type": "code",
   "execution_count": 5,
   "id": "4741d292",
   "metadata": {},
   "outputs": [],
   "source": [
    "#Function to convert text to Morse Code\n",
    "def text_to_morse(text):\n",
    "    text = text.upper()\n",
    "    result = []\n",
    "    for char in text:\n",
    "        morse= morse_code_dict.get(char, \"\")\n",
    "        result.append(morse)\n",
    "    return \"\".join(result)"
   ]
  },
  {
   "cell_type": "code",
   "execution_count": 6,
   "id": "7e7f7ff6",
   "metadata": {},
   "outputs": [
    {
     "name": "stdout",
     "output_type": "stream",
     "text": [
      "===== Morse Code Translator =====\n",
      "Enter text: cute\n",
      "Morse Code:  −·−· ··− − · \n"
     ]
    }
   ],
   "source": [
    "#Main Program\n",
    "print(\"===== Morse Code Translator =====\")\n",
    "text_input = input(\"Enter text: \")\n",
    "\n",
    "result= text_to_morse(text_input)\n",
    "print(\"Morse Code: \", result)"
   ]
  }
 ],
 "metadata": {
  "kernelspec": {
   "display_name": "Python 3 (ipykernel)",
   "language": "python",
   "name": "python3"
  },
  "language_info": {
   "codemirror_mode": {
    "name": "ipython",
    "version": 3
   },
   "file_extension": ".py",
   "mimetype": "text/x-python",
   "name": "python",
   "nbconvert_exporter": "python",
   "pygments_lexer": "ipython3",
   "version": "3.11.7"
  }
 },
 "nbformat": 4,
 "nbformat_minor": 5
}
